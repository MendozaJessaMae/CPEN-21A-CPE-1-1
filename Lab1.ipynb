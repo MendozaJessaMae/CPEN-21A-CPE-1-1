{
  "nbformat": 4,
  "nbformat_minor": 0,
  "metadata": {
    "colab": {
      "name": "Welcome To Colaboratory",
      "provenance": [],
      "collapsed_sections": [],
      "toc_visible": true,
      "include_colab_link": true
    },
    "kernelspec": {
      "display_name": "Python 3",
      "name": "python3"
    }
  },
  "cells": [
    {
      "cell_type": "markdown",
      "metadata": {
        "id": "view-in-github",
        "colab_type": "text"
      },
      "source": [
        "<a href=\"https://colab.research.google.com/github/MendozaJessaMae/CPEN-21A-CPE-1-1/blob/main/Lab1.ipynb\" target=\"_parent\"><img src=\"https://colab.research.google.com/assets/colab-badge.svg\" alt=\"Open In Colab\"/></a>"
      ]
    },
    {
      "cell_type": "code",
      "metadata": {
        "id": "yp4QYivQdgcP",
        "outputId": "edcad869-7ecd-40ca-ce43-7ebfdc0204bd",
        "colab": {
          "base_uri": "https://localhost:8080/"
        }
      },
      "source": [
        " x = \"Welcome to Python Programming\"\n",
        " print(x)"
      ],
      "execution_count": 1,
      "outputs": [
        {
          "output_type": "stream",
          "name": "stdout",
          "text": [
            "Welcome to Python Programming\n"
          ]
        }
      ]
    },
    {
      "cell_type": "code",
      "metadata": {
        "id": "p6IM3MoGedKj",
        "outputId": "1dc60a5c-7107-49fa-f28a-42e2d389ae1c",
        "colab": {
          "base_uri": "https://localhost:8080/"
        }
      },
      "source": [
        " x = name =\"Jessa Mae D. Mendoza\"\n",
        " print(x)"
      ],
      "execution_count": 10,
      "outputs": [
        {
          "output_type": "stream",
          "name": "stdout",
          "text": [
            "Jessa Mae D. Mendoza\n"
          ]
        }
      ]
    },
    {
      "cell_type": "code",
      "metadata": {
        "id": "a7bnYucueq0P",
        "outputId": "f8c8076f-4152-43bf-9c72-09e2c9584f07",
        "colab": {
          "base_uri": "https://localhost:8080/"
        }
      },
      "source": [
        " x = address = \"Brgy. Kabulusan Gen. E. Aguinaldo, Cavite\"\n",
        " print(x)"
      ],
      "execution_count": 9,
      "outputs": [
        {
          "output_type": "stream",
          "name": "stdout",
          "text": [
            "Brgy. Kabulusan Gen. E. Aguinaldo, Cavite\n"
          ]
        }
      ]
    },
    {
      "cell_type": "code",
      "metadata": {
        "id": "tZF4pEcZe2yo",
        "outputId": "1d4fc70d-6b80-4196-d2ba-54d676abd8e7",
        "colab": {
          "base_uri": "https://localhost:8080/"
        }
      },
      "source": [
        " x = age = \"19 years old\"\n",
        " print(x)"
      ],
      "execution_count": 11,
      "outputs": [
        {
          "output_type": "stream",
          "name": "stdout",
          "text": [
            "19 years old\n"
          ]
        }
      ]
    }
  ]
}