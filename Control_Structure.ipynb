{
  "nbformat": 4,
  "nbformat_minor": 0,
  "metadata": {
    "colab": {
      "name": "Control Structure",
      "provenance": [],
      "collapsed_sections": [],
      "include_colab_link": true
    },
    "kernelspec": {
      "display_name": "Python 3",
      "name": "python3"
    }
  },
  "cells": [
    {
      "cell_type": "markdown",
      "metadata": {
        "id": "view-in-github",
        "colab_type": "text"
      },
      "source": [
        "<a href=\"https://colab.research.google.com/github/MendozaJessaMae/CPEN-21A-CPE-1-1/blob/main/Control_Structure.ipynb\" target=\"_parent\"><img src=\"https://colab.research.google.com/assets/colab-badge.svg\" alt=\"Open In Colab\"/></a>"
      ]
    },
    {
      "cell_type": "markdown",
      "metadata": {
        "id": "jdMGKbovnHHC"
      },
      "source": [
        "#If Statement"
      ]
    },
    {
      "cell_type": "code",
      "metadata": {
        "colab": {
          "base_uri": "https://localhost:8080/"
        },
        "id": "cmClmMjnmnVz",
        "outputId": "fb48c56f-a7c8-48a3-f070-a723bfe8d514"
      },
      "source": [
        "a = 12\n",
        "b = 100\n",
        "\n",
        "if b > a:\n",
        "  print(\"b is greater than a\")"
      ],
      "execution_count": 2,
      "outputs": [
        {
          "output_type": "stream",
          "name": "stdout",
          "text": [
            "b is greater than a\n"
          ]
        }
      ]
    },
    {
      "cell_type": "markdown",
      "metadata": {
        "id": "wHxhAqNyooaX"
      },
      "source": [
        "##Elif Condition"
      ]
    },
    {
      "cell_type": "code",
      "metadata": {
        "colab": {
          "base_uri": "https://localhost:8080/"
        },
        "id": "wNdY_nOVon1i",
        "outputId": "a2765d6e-8d06-4866-ee14-47617022505b"
      },
      "source": [
        "a = 12\n",
        "b = 12\n",
        "\n",
        "if b > a:\n",
        "  print(\"b is greater than a\")\n",
        "\n",
        "elif a==b:\n",
        "  print(\"a is equal to b\")"
      ],
      "execution_count": 3,
      "outputs": [
        {
          "output_type": "stream",
          "name": "stdout",
          "text": [
            "a is equal to b\n"
          ]
        }
      ]
    },
    {
      "cell_type": "markdown",
      "metadata": {
        "id": "QchVtTrRprmg"
      },
      "source": [
        "##Else Statement"
      ]
    },
    {
      "cell_type": "code",
      "metadata": {
        "colab": {
          "base_uri": "https://localhost:8080/"
        },
        "id": "TpBwt38Tp2tf",
        "outputId": "5d660fbc-a729-4487-af2b-3bc28ba910af"
      },
      "source": [
        "a = 120\n",
        "b = 12\n",
        "\n",
        "if b > a:\n",
        "  print(\"b is greater than a\")\n",
        "\n",
        "elif a==b:\n",
        "  print(\"a is equal to b\")\n",
        "\n",
        "else:\n",
        "  print(\"b is less than a\")\n",
        "  "
      ],
      "execution_count": 4,
      "outputs": [
        {
          "output_type": "stream",
          "name": "stdout",
          "text": [
            "b is less than a\n"
          ]
        }
      ]
    },
    {
      "cell_type": "markdown",
      "metadata": {
        "id": "ZfWKRZoCqlW0"
      },
      "source": [
        "##Short Hand If Statement"
      ]
    },
    {
      "cell_type": "code",
      "metadata": {
        "colab": {
          "base_uri": "https://localhost:8080/"
        },
        "id": "xpfDN7uyqqTL",
        "outputId": "e786375b-d458-4529-d86e-b2132df977b2"
      },
      "source": [
        " if a > b: print(\"a is greater than b\")"
      ],
      "execution_count": 5,
      "outputs": [
        {
          "output_type": "stream",
          "name": "stdout",
          "text": [
            "a is greater than b\n"
          ]
        }
      ]
    },
    {
      "cell_type": "markdown",
      "metadata": {
        "id": "NnP-_PHrrbNt"
      },
      "source": [
        "##Short Hand If...Else Statement"
      ]
    },
    {
      "cell_type": "code",
      "metadata": {
        "colab": {
          "base_uri": "https://localhost:8080/"
        },
        "id": "WpbM5CwQrlHx",
        "outputId": "de4da8e9-e3d8-471a-b8ca-9731dadebe1f"
      },
      "source": [
        "print (\"a is greater than b\") if a>b else print (\"b is greater than a\")"
      ],
      "execution_count": 7,
      "outputs": [
        {
          "output_type": "stream",
          "name": "stdout",
          "text": [
            "a is greater than b\n"
          ]
        }
      ]
    },
    {
      "cell_type": "markdown",
      "metadata": {
        "id": "HxV1JUn4tBEQ"
      },
      "source": [
        "And Condition"
      ]
    },
    {
      "cell_type": "code",
      "metadata": {
        "colab": {
          "base_uri": "https://localhost:8080/"
        },
        "id": "hD-LSBf4ucQV",
        "outputId": "8589af64-ea12-4b2d-d9b0-d80ae2e185f4"
      },
      "source": [
        "a = 15\n",
        "b = 35\n",
        "\n",
        "if b>a and a<b:\n",
        "  print(\"Both conditions are True\")\n",
        "\n",
        "elif b<a and a>b:\n",
        "  print(\"a is larger than b\")\n",
        "\n",
        "else:\n",
        "  print(\"none of the above\")"
      ],
      "execution_count": 9,
      "outputs": [
        {
          "output_type": "stream",
          "name": "stdout",
          "text": [
            "Both conditions are True\n"
          ]
        }
      ]
    },
    {
      "cell_type": "markdown",
      "metadata": {
        "id": "9kBHZYGTvac5"
      },
      "source": [
        "Or Condition"
      ]
    },
    {
      "cell_type": "code",
      "metadata": {
        "colab": {
          "base_uri": "https://localhost:8080/"
        },
        "id": "7--Eor9OvhWs",
        "outputId": "e9fcfc4e-d465-40a2-8ef9-5e9f23e1a13d"
      },
      "source": [
        "a = 15\n",
        "b = 35\n",
        "\n",
        "if b>a or a==b:\n",
        "  print(\"True\")\n",
        "\n",
        "elif b==b or a>b:\n",
        "  print(\"Absolutely True\")\n",
        "\n",
        "else:\n",
        "  print(\"Nothing to compare\")"
      ],
      "execution_count": 10,
      "outputs": [
        {
          "output_type": "stream",
          "name": "stdout",
          "text": [
            "True\n"
          ]
        }
      ]
    },
    {
      "cell_type": "code",
      "metadata": {
        "colab": {
          "base_uri": "https://localhost:8080/"
        },
        "id": "hq7w3vv7waHh",
        "outputId": "81b4bcab-e5ee-4f6b-93bf-4ee0903ac945"
      },
      "source": [
        "a = 35\n",
        "b = 20\n",
        "\n",
        "if b>a or a==b:\n",
        "  print(\"True\")\n",
        "else:\n",
        "  print(\"False\")"
      ],
      "execution_count": 11,
      "outputs": [
        {
          "output_type": "stream",
          "name": "stdout",
          "text": [
            "False\n"
          ]
        }
      ]
    },
    {
      "cell_type": "markdown",
      "metadata": {
        "id": "qRHWDWW6xDpY"
      },
      "source": [
        "##Nested If"
      ]
    },
    {
      "cell_type": "code",
      "metadata": {
        "colab": {
          "base_uri": "https://localhost:8080/"
        },
        "id": "idGdyjoY6qnc",
        "outputId": "b444edca-10ac-4b98-916f-3b190dbd5299"
      },
      "source": [
        "x = 41\n",
        "if x > 10:\n",
        "  print(\"Above 10\")\n",
        "  if x > 20:\n",
        "   print(\"Above 20\")\n",
        "   if x > 30:\n",
        "    print(\"Above 30\")\n",
        "   else:\n",
        "    print(\"Not above 30\")\n",
        "  else:\n",
        "   print(\"Not above 20\")\n",
        "else:\n",
        "  print(\"Not above 10\")"
      ],
      "execution_count": 20,
      "outputs": [
        {
          "output_type": "stream",
          "name": "stdout",
          "text": [
            "Above 10\n",
            "Above 20\n",
            "Above 30\n"
          ]
        }
      ]
    },
    {
      "cell_type": "markdown",
      "metadata": {
        "id": "piIeYO4QyZIz"
      },
      "source": [
        "Application of If..Else Statement"
      ]
    },
    {
      "cell_type": "code",
      "metadata": {
        "colab": {
          "base_uri": "https://localhost:8080/"
        },
        "id": "-gq_fjnu7ZZj",
        "outputId": "8c87383c-e7a3-484e-8b36-95d660bc98b9"
      },
      "source": [
        "#Example 1\n",
        "\n",
        "age = 18\n",
        "\n",
        "if age>=18:\n",
        "  print(\"You are qualified\")\n",
        "\n",
        "else:\n",
        "  print(\"You are not qualified\")"
      ],
      "execution_count": 21,
      "outputs": [
        {
          "output_type": "stream",
          "name": "stdout",
          "text": [
            "You are qualified\n"
          ]
        }
      ]
    },
    {
      "cell_type": "code",
      "metadata": {
        "colab": {
          "base_uri": "https://localhost:8080/"
        },
        "id": "bOE0_6NC8qon",
        "outputId": "75a7528e-56ea-4aa4-b1f9-dc3f57a65e6f"
      },
      "source": [
        "#Example 1\n",
        "\n",
        "age = 17\n",
        "\n",
        "if age>=18:\n",
        "  print(\"You are qualified\")\n",
        "\n",
        "else:\n",
        "  print(\"You are not qualified\")"
      ],
      "execution_count": 22,
      "outputs": [
        {
          "output_type": "stream",
          "name": "stdout",
          "text": [
            "You are not qualified\n"
          ]
        }
      ]
    },
    {
      "cell_type": "code",
      "metadata": {
        "colab": {
          "base_uri": "https://localhost:8080/"
        },
        "id": "991Kgs3o8x33",
        "outputId": "7c92bc29-fe12-47ab-8536-d44fc9570149"
      },
      "source": [
        "#Example 2 to check whether 0, negative or positive number\n",
        "\n",
        "number= int(input(\"Enter the number:\"))\n",
        "\n",
        "if number==0:\n",
        "  print(\"Zero\")\n",
        "\n",
        "elif number>0:\n",
        "  print(\"Positive\")\n",
        "\n",
        "else:\n",
        "  print(\"Negative\")"
      ],
      "execution_count": 32,
      "outputs": [
        {
          "output_type": "stream",
          "name": "stdout",
          "text": [
            "Enter the number:-1\n",
            "Negative\n"
          ]
        }
      ]
    },
    {
      "cell_type": "code",
      "metadata": {
        "colab": {
          "base_uri": "https://localhost:8080/"
        },
        "id": "RHq1ynaJAHoW",
        "outputId": "d286ee8a-97ad-4607-c221-652e24d7f990"
      },
      "source": [
        "#Example 3\n",
        "\n",
        "grade= int(input(\"Enter your grade:\"))\n",
        "\n",
        "if grade >= 75:\n",
        "  print(\"Passed\")\n",
        "\n",
        "if grade == 74:\n",
        "  print(\"Remedial\")\n",
        "  \n",
        "if grade < 74:\n",
        "  print(\"Failed\")\n"
      ],
      "execution_count": 34,
      "outputs": [
        {
          "output_type": "stream",
          "name": "stdout",
          "text": [
            "Enter your grade:75 \n",
            "Passed\n"
          ]
        }
      ]
    },
    {
      "cell_type": "code",
      "metadata": {
        "colab": {
          "base_uri": "https://localhost:8080/"
        },
        "id": "3LAlHIQpAzvu",
        "outputId": "13f936e7-cfe9-47a2-903f-060785e873c3"
      },
      "source": [
        "#Example 3\n",
        "\n",
        "grade= int(input(\"Enter your grade:\"))\n",
        "\n",
        "if grade >= 75:\n",
        "  print(\"Passed\")\n",
        "\n",
        "if grade == 74:\n",
        "  print(\"Remedial\")\n",
        "  \n",
        "if grade < 74:\n",
        "  print(\"Failed\")\n"
      ],
      "execution_count": 35,
      "outputs": [
        {
          "output_type": "stream",
          "name": "stdout",
          "text": [
            "Enter your grade:70\n",
            "Failed\n"
          ]
        }
      ]
    }
  ]
}