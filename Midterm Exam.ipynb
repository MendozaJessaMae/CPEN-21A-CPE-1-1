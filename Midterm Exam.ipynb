{
  "nbformat": 4,
  "nbformat_minor": 0,
  "metadata": {
    "colab": {
      "name": "Copy of Welcome To Colaboratory",
      "provenance": [],
      "collapsed_sections": [],
      "include_colab_link": true
    },
    "kernelspec": {
      "display_name": "Python 3",
      "name": "python3"
    }
  },
  "cells": [
    {
      "cell_type": "markdown",
      "metadata": {
        "id": "view-in-github",
        "colab_type": "text"
      },
      "source": [
        "<a href=\"https://colab.research.google.com/github/MendozaJessaMae/CPEN-21A-CPE-1-1/blob/main/Midterm%20Exam.ipynb\" target=\"_parent\"><img src=\"https://colab.research.google.com/assets/colab-badge.svg\" alt=\"Open In Colab\"/></a>"
      ]
    },
    {
      "cell_type": "markdown",
      "metadata": {
        "id": "VFbMdub7hfG9"
      },
      "source": [
        "#\"Midterm Exam\""
      ]
    },
    {
      "cell_type": "markdown",
      "metadata": {
        "id": "CvOsS1s6wIK7"
      },
      "source": [
        "#PROBLEM STATEMENT 1"
      ]
    },
    {
      "cell_type": "code",
      "metadata": {
        "colab": {
          "base_uri": "https://localhost:8080/"
        },
        "id": "_G1hqUT3hpPW",
        "outputId": "bb1197c8-1903-415a-f3e0-3f148d7cf7b4"
      },
      "source": [
        "full_name = \"Jessa Mae D. Mendoza\"\n",
        "student_number = 202102187\n",
        "age = 19 \n",
        "birthday = \"October 02 2002\"\n",
        "address = \"Brgy. Kabulusan Gen. E. Aguinaldo, Cavite\"\n",
        "course = \"Bachelor of Science in Computer Engineering\"\n",
        "last_sem_gwa = 96.44\n",
        "print(full_name)\n",
        "print(student_number)\n",
        "print(str(age) + \"\" \"years old\")\n",
        "print(birthday)\n",
        "print(address)\n",
        "print(course)\n",
        "print(last_sem_gwa)\n"
      ],
      "execution_count": 63,
      "outputs": [
        {
          "output_type": "stream",
          "name": "stdout",
          "text": [
            "Jessa Mae D. Mendoza\n",
            "202102187\n",
            "19years old\n",
            "October 02 2002\n",
            "Brgy. Kabulusan Gen. E. Aguinaldo, Cavite\n",
            "Bachelor of Science in Computer Engineering\n",
            "96.44\n"
          ]
        }
      ]
    },
    {
      "cell_type": "markdown",
      "metadata": {
        "id": "GEnFJXcawO0h"
      },
      "source": [
        "#PROBLEM STATEMENT 2"
      ]
    },
    {
      "cell_type": "code",
      "metadata": {
        "colab": {
          "base_uri": "https://localhost:8080/"
        },
        "id": "XI3cZ1WtkXpv",
        "outputId": "a35b5aa4-dedb-4803-b068-eb6943bc9490"
      },
      "source": [
        "n = 4\n",
        "answ = \"Y\"\n",
        "\n",
        "print(2<n and n<6)\n",
        "print(2<n or n==6)\n",
        "print(not(2<n or n==6))\n",
        "print(not(n<6))\n",
        "print((answ==\"Y\") or (answ==\"y\"))\n",
        "print((answ==\"Y\") and (answ==\"y\"))\n",
        "print(not(answ==\"y\"))\n",
        "print((2<n) and (n==5+1)) or answ== \"No\"\n",
        "print((n==2) and (n==7) or (answ==\"Y\"))\n",
        "print((n==2) and ((n==7) or (answ== \"Y\")))\n"
      ],
      "execution_count": 67,
      "outputs": [
        {
          "output_type": "stream",
          "name": "stdout",
          "text": [
            "True\n",
            "True\n",
            "False\n",
            "False\n",
            "True\n",
            "False\n",
            "True\n",
            "False\n",
            "True\n",
            "False\n"
          ]
        }
      ]
    },
    {
      "cell_type": "markdown",
      "metadata": {
        "id": "4eJOkcNnwTYG"
      },
      "source": [
        "#PROBLEM STATEMENT 3"
      ]
    },
    {
      "cell_type": "code",
      "metadata": {
        "colab": {
          "base_uri": "https://localhost:8080/"
        },
        "id": "CBLJoJ52oNzg",
        "outputId": "003b1675-8669-45bf-c957-2db6a8e33697"
      },
      "source": [
        "x,y,w,z = 2,-3, 7, -10\n",
        "print(x/y)\n",
        "print(w/y/x)\n",
        "print(z/y%x)\n",
        "print(x%-y*w)\n",
        "print(x%y)\n",
        "print(z%y-y/x*5+5)\n",
        "print(9-x%(2+y))\n",
        "print(z//w)\n",
        "print((2+y)**2)\n",
        "print(w/x*2)"
      ],
      "execution_count": 36,
      "outputs": [
        {
          "output_type": "stream",
          "name": "stdout",
          "text": [
            "-0.6666666666666666\n",
            "-1.1666666666666667\n",
            "1.3333333333333335\n",
            "14\n",
            "-1\n",
            "11.5\n",
            "9\n",
            "-2\n",
            "1\n",
            "7.0\n"
          ]
        }
      ]
    }
  ]
}