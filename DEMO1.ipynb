{
  "nbformat": 4,
  "nbformat_minor": 0,
  "metadata": {
    "colab": {
      "name": "Copy of Welcome To Colaboratory",
      "provenance": [],
      "collapsed_sections": [],
      "include_colab_link": true
    },
    "kernelspec": {
      "display_name": "Python 3",
      "name": "python3"
    }
  },
  "cells": [
    {
      "cell_type": "markdown",
      "metadata": {
        "id": "view-in-github",
        "colab_type": "text"
      },
      "source": [
        "<a href=\"https://colab.research.google.com/github/MendozaJessaMae/CPEN-21A-CPE-1-1/blob/main/DEMO1.ipynb\" target=\"_parent\"><img src=\"https://colab.research.google.com/assets/colab-badge.svg\" alt=\"Open In Colab\"/></a>"
      ]
    },
    {
      "cell_type": "code",
      "metadata": {
        "id": "tKiCXsa0Z6Wc"
      },
      "source": [
        ""
      ],
      "execution_count": null,
      "outputs": []
    },
    {
      "cell_type": "code",
      "metadata": {
        "colab": {
          "base_uri": "https://localhost:8080/"
        },
        "id": "oYYCk3PPXxU8",
        "outputId": "8891610f-afb1-4de4-a845-cd655d10c674"
      },
      "source": [
        "b = \"Sally\"\n",
        "print(b)"
      ],
      "execution_count": 2,
      "outputs": [
        {
          "output_type": "stream",
          "name": "stdout",
          "text": [
            "Sally\n"
          ]
        }
      ]
    },
    {
      "cell_type": "code",
      "metadata": {
        "id": "OFtAZ9AFcVlV"
      },
      "source": [
        "Naming Variables\n",
        "In [10]:\n",
        "a = 'Sally'\n",
        "A = \"John\"\n",
        "print(a)\n",
        "print(A)\n",
        "Sally\n",
        "John\n",
        "In [13]:\n",
        "a, b, c = 0, 1, 2\n",
        "print(type(a))       #This is a program using type function\n",
        "print(b)\n",
        "print(c)\n",
        "<class 'int'>\n",
        "1\n",
        "2\n",
        "In [15]:\n",
        "a = 4.50\n",
        "print(type(a))\n",
        "<class 'float'>"
      ],
      "execution_count": null,
      "outputs": []
    },
    {
      "cell_type": "markdown",
      "metadata": {
        "id": "H364FRWsidTF"
      },
      "source": [
        ""
      ]
    }
  ]
}