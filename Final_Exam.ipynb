{
  "cells": [
    {
      "cell_type": "markdown",
      "metadata": {
        "id": "view-in-github",
        "colab_type": "text"
      },
      "source": [
        "<a href=\"https://colab.research.google.com/github/MendozaJessaMae/CPEN-21A-CPE-1-1/blob/main/Final_Exam.ipynb\" target=\"_parent\"><img src=\"https://colab.research.google.com/assets/colab-badge.svg\" alt=\"Open In Colab\"/></a>"
      ]
    },
    {
      "cell_type": "markdown",
      "source": [
        "##\"Final Exam\""
      ],
      "metadata": {
        "id": "vV6OF1mYvHRg"
      }
    },
    {
      "cell_type": "markdown",
      "source": [
        "PROBLEM STATEMENT 1"
      ],
      "metadata": {
        "id": "bi0mk5I6vOhI"
      }
    },
    {
      "cell_type": "code",
      "source": [
        "sum=0\n",
        "num=[-5 + -4 + -3 + -2 + -1 + 0 + 1 + 2 + 3 + 4]\n",
        "for x in (num):\n",
        "  sum=sum + x\n",
        "print(\"The sum of 10 numbers less than 5 is\", sum)"
      ],
      "metadata": {
        "colab": {
          "base_uri": "https://localhost:8080/"
        },
        "id": "3EhLEkALvJ-Q",
        "outputId": "466ea2a5-09cf-4b46-968b-dadc25b55c33"
      },
      "execution_count": 1,
      "outputs": [
        {
          "output_type": "stream",
          "name": "stdout",
          "text": [
            "The sum of 10 numbers less than 5 is -5\n"
          ]
        }
      ]
    },
    {
      "cell_type": "markdown",
      "source": [
        "PROBLEM STATEMENT 2"
      ],
      "metadata": {
        "id": "FgI8Brq6vV2J"
      }
    },
    {
      "cell_type": "code",
      "source": [
        "count = 0\n",
        "save_numbers = []\n",
        "while count<5:\n",
        "  try:\n",
        "    num_input = int(input(f\"enter the number {count+1}: \"))\n",
        "    count+=1\n",
        "    save_numbers.append(num_input)\n",
        "  except:\n",
        "    print(\"invalid input, enter a integer value\")\n",
        "  print(\"You entered the numbers:\",save_numbers)\n",
        "\n",
        "sum = save_numbers[0]+save_numbers[-1]\n",
        "print(\"The sum of first and last value is: \", sum)"
      ],
      "metadata": {
        "colab": {
          "base_uri": "https://localhost:8080/"
        },
        "id": "1IPmU51VvZNA",
        "outputId": "f1eac112-e7f5-4170-c4fd-94ca7954dab1"
      },
      "execution_count": 3,
      "outputs": [
        {
          "output_type": "stream",
          "name": "stdout",
          "text": [
            "enter the number 1: 2\n",
            "You entered the numbers: [2]\n",
            "enter the number 2: 3\n",
            "You entered the numbers: [2, 3]\n",
            "enter the number 3: 4\n",
            "You entered the numbers: [2, 3, 4]\n",
            "enter the number 4: 5\n",
            "You entered the numbers: [2, 3, 4, 5]\n",
            "enter the number 5: 6\n",
            "You entered the numbers: [2, 3, 4, 5, 6]\n",
            "The sum of first and last value is:  8\n"
          ]
        }
      ]
    },
    {
      "cell_type": "markdown",
      "source": [
        "PROBLEM STATEMENT 3"
      ],
      "metadata": {
        "id": "RZq4o_zBvZ7V"
      }
    },
    {
      "cell_type": "code",
      "source": [
        "grade=int(input(\"Enter your numerical grade:\"))\n",
        "\n",
        "if grade>69:\n",
        "  if grade>79:\n",
        "    if grade>89:\n",
        "      print(\"Grade: A\")\n",
        "    else:\n",
        "      print(\"Grade: B\")\n",
        "  else:\n",
        "    print(\"Grade: C\")\n",
        "else:\n",
        "  if grade>59:\n",
        "    print(\"Grade: D\")\n",
        "  else :\n",
        "    print(\"Grade: F\")"
      ],
      "metadata": {
        "colab": {
          "base_uri": "https://localhost:8080/"
        },
        "id": "ZQSD8CYSvc5c",
        "outputId": "d2e3c69c-508a-4de3-b8f2-85aad2aa4abc"
      },
      "execution_count": 2,
      "outputs": [
        {
          "output_type": "stream",
          "name": "stdout",
          "text": [
            "Enter your numerical grade:85\n",
            "Grade: B\n"
          ]
        }
      ]
    }
  ],
  "metadata": {
    "colab": {
      "collapsed_sections": [],
      "name": "Final Exam",
      "provenance": [],
      "include_colab_link": true
    },
    "kernelspec": {
      "display_name": "Python 3",
      "name": "python3"
    }
  },
  "nbformat": 4,
  "nbformat_minor": 0
}